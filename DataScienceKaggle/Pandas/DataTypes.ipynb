# Your code here
ans = reviews.points.dtype

# Your code here
ans2 = reviews.price.astype('str')

# Your code here : shows everything in table of pricing null
reviews[reviews.price.isnull()]

#Corret ans: shows only 2 columns of price , true and false
# reviews.price.isnull() 

# Your code here, wrong error
reviews.region_1.fillna("Unkown").count().sort_values(ascending = False)
# reviews.region_1.fillna("Unkown").count() would be ascending

# Correct : reviews.region_1.fillna("Unkown").value_counts


# Your code here , wrong - shows all answers in table format
reviews.isnull().sum

# correct: shows in 2 columns
reviews.isnull().sum()

