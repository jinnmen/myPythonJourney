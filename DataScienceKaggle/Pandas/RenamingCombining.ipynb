# Your code here
reviews.rename(columns = {'region_1' : 'region', 'region_2' : 'locale'})

# Your code here
reviews.rename(index = {0 : 'wines'})

# correct ans:
reviews.rename_axis("wines", axis = 'rows')
# this adds a new row instead of replacing 0 with wines

# Your code here
pd.concat([gaming_products, movie_products])

# Your code here
pd.concat([powerlifting_meets, powerlifting_competitors])

#Correct : need to include and combine into MeetID
powerlifting_meets.set_index("MeetID").join(powerlifting_competitors.set_index("MeetID"))