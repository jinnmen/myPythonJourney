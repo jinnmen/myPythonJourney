# Your code here : wrong, prints out length digits too.
chess_games.winner.astype('str')

#Correct answer:
chess_games['winner'].value_counts() / len(chess_games)

# Your code here
chess_games.opening_name.map(lambda n: n.split(":")[0].split("|")[0].split("#")[0].strip()).value_counts("opening archetype")

# Correct answer doesn't have float numbers
(chess_games
    .opening_name
    .map(lambda n: n.split(":")[0].split("|")[0].split("#")[0].strip())
    .value_counts()
)


Wrong ans:
(chess_games
    .groupby(["white_id", "victory_status"])
    .count())

#Correct answer:
# Your code here
(chess_games
     .assign(n=0)
     .groupby(["white_id", "victory_status"])
     .n
    .apply(len)
    .reset_index()
)