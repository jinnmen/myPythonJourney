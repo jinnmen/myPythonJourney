# Your code here : wrong, prints out length digits too.
chess_games.winner.astype('str')

#Correct answer:
chess_games['winner'].value_counts() / len(chess_games)

# Your code here
chess_games.opening_name.map(lambda n: n.split(":")[0].split("|")[0].split("#")[0].strip()).value_counts("opening archetype")

# Correct answer doesn't have float numbers
(chess_games
    .opening_name
    .map(lambda n: n.split(":")[0].split("|")[0].split("#")[0].strip())
    .value_counts()
)


Wrong ans:
(chess_games
    .groupby(["white_id", "victory_status"])
    .count())

#Correct answer:
# Your code here
(chess_games
     .assign(n=0)
     .groupby(["white_id", "victory_status"])
     .n
    .apply(len)
    .reset_index()
)

#Q4
# Your code here
def chess_index(df):
    df.index_name = 'review_id'
    return df

chess_games.pipe(chess_index)

#Correct ans:

(chess_games
    .assign(n=0)
    .groupby(['white_id', 'victory_status'])
    .n
    .apply(len)
    .reset_index()
    .pipe(lambda df: df.loc[df.white_id.isin(chess_games.white_id.value_counts().head(20).index)])
)


# Q5
# Your code here
ans = kepler.groupby(['koi_disposition', 'koi_pdisposition']).count()

# Correct - counts how many times possible combinations occur :
kepler.assign(n = 0).groupby(['koi_pdisposition', 'koi_disposition']).n.count()

# Your code here
wine_reviews.((100-points)/20*5).count()

# CORRET CODE:
(((wine_reviews['points'].dropna()-80)/4)
      .value_counts()
      .sort_index()
      .rename_axis("Wine Ratings")
 )
 
 
 # Wrong ans, shows everything:
 # Your code here
ans7= (ramen_reviews.loc[ramen_reviews.Stars.notnull()]
    .count()
    .sort_index()
    .rename_axis("Ramen Ratings")
)

#correct ans: shows ramen reviews
(ramen_reviews
    .Stars
    .replace("Unrated", None)
    .dropna()
    .astype('float64')
    .value_counts()
    .rename_axis("Ramen Reviews")
    .sort_index())
    

# Q8: Wrong. does not round up values
# Your code here
(ramen_reviews
    .Stars
    .replace("Unrated", None)
    .dropna()
    .astype('float64')
    .value_counts()
    .rename_axis("Ramen Reviews")
    .sort_index()
    .round(decimals =1)
)

#Correct:
(ramen_reviews
    .Stars
    .replace('Unrated', None)
    .dropna()
     .astype('float64')
     .map(lambda v: int(v) if v- int(v) < 0.5 else int(v) + 0.5)
     .value_counts()
     .rename_axis("Ramen Reviews")
     .sort_index()
)