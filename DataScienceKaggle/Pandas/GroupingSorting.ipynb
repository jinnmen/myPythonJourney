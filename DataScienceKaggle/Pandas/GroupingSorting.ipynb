#reviews.groupby("taster_twitter_handle").title.value_counts()
# Correct answer: reviews.groupby('taster_twitter_handle').taster_twitter_handle.count()

# Your code here
# best_wine = ______
# check_q2(best_wine)
reviews.groupby('points').price.min()

reviews.groupby('price').points.max().sort_index()

# Your code here
# wine_price_extremes = _____
# check_q3(wine_price_extremes)

wine_reviewed = reviews.groupby(['title', 'price']).description.agg([len, min, max])
wine_reviewed

# Correct answer : 
reviews.groupby('variety').price.agg([min,max])

# Your code here
# reviewer_mean_ratings = _____
# check_q4(reviewer_mean_ratings)
reviews.groupby('taster_name').points.mean()

# Your code here
# wine_price_range = ____
# check_q5(wine_price_range)
reviews.groupby('variety').price.agg([min, max]).sort_index()

# Correct:
reviews.groupby('variety').price.agg([min, max]).sort_values(by= ['min', 'max'], ascending = False)


# Your code here
# country_variety_pairs = _____
# check_q6(country_variety_pairs)
countries_reviewed = reviews.groupby(['country', 'variety']).points.agg([min, max]).sort_values(by =['min', 'max'], ascending = True)
countries_reviewed

# Correct
reviews['n'] = 0
reviews.groupby(['country', 'variety']).n.count().sort_values(ascending = False)