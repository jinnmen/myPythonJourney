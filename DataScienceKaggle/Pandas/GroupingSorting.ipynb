#reviews.groupby("taster_twitter_handle").title.value_counts()
# Correct answer: reviews.groupby('taster_twitter_handle').taster_twitter_handle.count()
