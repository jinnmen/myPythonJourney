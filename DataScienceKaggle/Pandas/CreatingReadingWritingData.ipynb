import pandas as pd
pd.set_option('max_rows', 5)

import sys
sys.path.append('../input/advanced-pandas-exercises/')
from creating_reading_writing import *

check_q1(pd.DataFrame())

# https://www.kaggle.com/residentmario/creating-reading-and-writing-reference
# Your code here
pd.DataFrame({'Apples':[30], 'Bananas': [21]})

# Your code here
pd.DataFrame({'Apples':[35, 41],'Bananas': [21,34]}, index = ['2017 Sales', '2018 Sales'])

# Your code here
pd.Series(['4 cups', '1 cup', '2 large', '1 can'], index = ['Flour', 'Milk', 'Eggs', 'Spam'], name = 'Dinner')

countryinfo  = pd.read_csv('../input/wine-reviews/winemag-data_first150k.csv')

countryinfo.shape

countryinfo.head()

# Your code here
pwp = pd.read_excel('../input/publicassistance/xls_files_all/WICAgencies2014ytd.xls', sheet_name = 'Pregnant Women Participating')

pwp.head()

q6_df = pd.DataFrame({'Cows': [12, 20], 'Goats': [22, 19]}, index=['Year 1', 'Year 2'])
q6_df.shape

# Your code here
q6_df.to_csv('cows_and_goats.csv')

# Your Code Here
import sqlite3
ra = sqlite3.connect('../input/pitchfork-data/database.sqlite')
rapan = pd.read_sql_query("SELECT * FROM rapan", ra)