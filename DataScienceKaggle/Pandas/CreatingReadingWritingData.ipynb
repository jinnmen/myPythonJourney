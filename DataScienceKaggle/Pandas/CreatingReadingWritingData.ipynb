import pandas as pd
pd.set_option('max_rows', 5)

import sys
sys.path.append('../input/advanced-pandas-exercises/')
from creating_reading_writing import *

check_q1(pd.DataFrame())

# https://www.kaggle.com/residentmario/creating-reading-and-writing-reference
# Your code here
pd.DataFrame({'Apples':[30], 'Bananas': [21]})

# Your code here
pd.DataFrame({'Apples':[35, 41],'Bananas': [21,34]}, index = ['2017 Sales', '2018 Sales'])

# Your code here
pd.Series(['4 cups', '1 cup', '2 large', '1 can'], index = ['Flour', 'Milk', 'Eggs', 'Spam'], name = 'Dinner')