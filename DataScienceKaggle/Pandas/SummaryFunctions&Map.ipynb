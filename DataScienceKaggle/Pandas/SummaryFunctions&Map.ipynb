import pandas as pd
pd.set_option('max_rows', 5)
import numpy as np
from learntools.advanced_pandas.summary_functions_maps import *

reviews = pd.read_csv("../input/wine-reviews/winemag-data-130k-v2.csv", index_col=0)

# Your code here
reviews.points.median()

# Your code here
reviews.country.unique()

check_q2(pd.DataFrame())

# Your code here
reviews.country.describe()

check_q3(pd.DataFrame())

# Your code here
review_price_median = reviews.price.median()
reviews.price.map(lambda p: p - review_price_median)

def remed_price(srs):
    srs.price = srs.price - review_price_median
    return srs

reviews.apply(remed_price, axis = 'columns')

# **Exercise 6**: I"m an economical wine buyer. Which wine in is the 
# "best bargain", e.g., which wine has the highest points-to-price ratio 
# in the dataset?
reviews.loc[(reviews.points / reviews.price).idxmax()].title

"""
**Exercise 7**: There are only so many words you can use when describing a bottle of wine. 
Is a wine more likely to be "tropical" or "fruity"? Create a `Series` counting how many times each of these two words 
appears in the `description` column in the dataset.

Hint: use a map to check each description for the string `tropical`, then count up the number of times this is `True`. 
Repeat this for `fruity`. Create a `Series` combining the two values at the end.

"""

# Your code here
tropical_wine = reviews.description.map(lambda r:"tropical" in r).value_counts()
fruity_wine = reviews.description.map(lambda r: "fruity" in r).value_counts()
pd.Series([tropical_wine[True], fruity_wine[True]], index = ['tropical', 'fruity'])


"""
**Exercise 8**: What combination of countries and varieties are most common?

Create a `Series` whose index consists of strings of the form `"<Country> - <Wine Variety>"`. 
For example, a pinot noir produced in the US should map to `"US - Pinot Noir"`. 
The values should be counts of how many times the given wine appears in the dataset. Drop any reviews 
with incomplete `country` or `variety` data.

Hint: you can do this in three steps. First, generate a `DataFrame` whose `country` and `variety` columns are non-null. 
Then use a map to create a series whose entries are a `str` concatenation of those two columns. 
Finally, generate a `Series` counting how many times each label appears in the dataset.
"""

# Your code here (Wrong answer)
# Data Frame
reviews.loc[reviews.country.notnull()]
reviews.loc[reviews.variety.notnull()]
# Series
reviews.country + " - " + reviews.variety
pd.Series()

# Correct answer:
ans = reviews.loc[(reviews.country.notnull()) & (reviews.variety.notnull())]
ans = ans.apply(lambda srs: srs.country + " - " + srs.variety, axis = 'columns')
ans.value_counts()
