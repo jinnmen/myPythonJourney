import pandas as pd
pd.set_option('max_rows', 5)
import numpy as np
from learntools.advanced_pandas.summary_functions_maps import *

reviews = pd.read_csv("../input/wine-reviews/winemag-data-130k-v2.csv", index_col=0)

# Your code here
reviews.points.median()

# Your code here
reviews.country.unique()

check_q2(pd.DataFrame())

# Your code here
reviews.country.describe()

check_q3(pd.DataFrame())

# Your code here
review_price_median = reviews.price.median()
reviews.price.map(lambda p: p - review_price_median)

def remed_price(srs):
    srs.price = srs.price - review_price_median
    return srs

reviews.apply(remed_price, axis = 'columns')

# **Exercise 6**: I"m an economical wine buyer. Which wine in is the 
# "best bargain", e.g., which wine has the highest points-to-price ratio 
# in the dataset?
reviews.loc[(reviews.points / reviews.price).idxmax()].title

