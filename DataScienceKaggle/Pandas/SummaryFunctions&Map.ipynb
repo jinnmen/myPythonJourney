import pandas as pd
pd.set_option('max_rows', 5)
import numpy as np
from learntools.advanced_pandas.summary_functions_maps import *

reviews = pd.read_csv("../input/wine-reviews/winemag-data-130k-v2.csv", index_col=0)

# Your code here
reviews.points.median()