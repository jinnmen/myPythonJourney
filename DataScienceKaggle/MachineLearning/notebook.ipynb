import pandas as pd
from sklearn.tree import DecisionTreeRegressor

data = "../input/house-prices-advanced-regression-techniques/train.csv"
mymodel_data = pd.read_csv(data)
mymodel_data = mymodel_data.dropna(axis = 1)

"""
Change "axis = 0" to "axis = 1"

My understanding is axis 0 indicates rows and axis 1 indicates columns By using axis = 0 to remove nas you remove most of the data

Check this by running .describe right after performing the .dropna command
"""

y = mymodel_data.SalePrice

mymodel_predictors = ['LotArea', 'YearBuilt', '1stFlrSF', '2ndFlrSF', 'FullBath', 'BedroomAbvGr', 'TotRmsAbvGrd']

X = mymodel_data[mymodel_predictors]

mymodel_model = DecisionTreeRegressor()

mymodel_model.fit(X, y)

print ("Making predictions for the first 5 houses")

print ("The predictions are:")

print (mymodel_model.predict(X.head()))