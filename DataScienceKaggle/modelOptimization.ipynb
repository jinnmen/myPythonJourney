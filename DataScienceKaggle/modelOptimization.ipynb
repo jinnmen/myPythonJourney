#MAE
from sklearn.metrics import mean_absolute_error
from sklearn.tree import DecisionTreeRegressor

def get_mae(max_leaf_nodes, predictors_train, predictors_val, targ_train, targ_val):
    model = DecisionTreeRegressor(max_leaf_nodes = max_leaf_nodes, random_state = 0)
    model.fit(predictors_train, targ_train)
    preds_val = model.predict(predictors_val)
    mae = mean_absolute_error(targ_val, preds_val)
    return(mae)
    
# Data Loading Code Runs At This Point
import pandas as pd

#Load
melb_file=  '../input/melbourne-housing-snapshot/melb_data.csv'
melb_data = pd.read_csv(melb_file)

#Filter
melb_filter = melb_data.dropna(axis = 0)

# Choose X, y
y =melb_filter.Price
melb_predictors = ['Rooms', 'Bathroom', 'Landsize', 'BuildingArea', 'YearBuilt', 'Lattitude', 'Longtitude']
X = melb_filter[melb_predictors]

from sklearn.model_selection import train_test_split

#Split data into training and validation data, for both predictors and target
train_X, val_X, train_y, val_y = train_test_split(X, y, random_state = 0)

# compare MAE with differeing values of max_leaf_nodes
for max_leaf_nodes in [5, 50, 500, 5000]:
    my_mae = get_mae(max_leaf_nodes, train_X, val_X, train_y, val_y)
    print("Max leaf nodes: %d \t\tMean Absolute Error: %d" % (max_leaf_nodes, my_mae))