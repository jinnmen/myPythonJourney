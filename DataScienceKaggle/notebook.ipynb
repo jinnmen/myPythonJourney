import pandas as pd
from sklearn.tree import DecisionTreeRegressor

data = "../input/house-prices-advanced-regression-techniques/train.csv"
mymodel_data = pd.read_csv(data)
mymodel_data = mymodel_data.dropna(axis = 0)

y = mymodel_data.SalePrice

mymodel_predictors = ['LotArea', 'YearBuilt', '1stFlrSF', '2ndFlrSF', 'FullBath', 'BedroomAbvGr', 'TotRmsAbvGrd']

X = mymodel_data[mymodel_predictors]

mymodel_model = DecisionTreeRegressor()

mymodel_model.fit(X, y)

print ("Making predictions for the first 5 houses")

print ("The predictions are:")

print (mymodel_model.predict(X.head()))